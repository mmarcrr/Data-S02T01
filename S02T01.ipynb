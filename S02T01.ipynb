{
 "cells": [
  {
   "cell_type": "markdown",
   "metadata": {},
   "source": [
    "# Nivell 1"
   ]
  },
  {
   "cell_type": "markdown",
   "metadata": {},
   "source": [
    "## Exercici 2\n",
    "\n",
    "Utilitzant Jupyter Notebook executa alguns càlculs senzills, a la vegada que et familiaritzes amb el llenguatge Markdown."
   ]
  },
  {
   "cell_type": "code",
   "execution_count": 1,
   "metadata": {},
   "outputs": [
    {
     "name": "stdout",
     "output_type": "stream",
     "text": [
      "suma 5+5= 10\n",
      "resta 10-5= -5\n",
      "multiplicacion 5*5= 25\n",
      "division 10/5= 2.0\n",
      "modulo 11%6= 5\n",
      "exponencial 4^2 = 16\n",
      "convinacion interes 100*(1.5)**7= 1708.59375\n"
     ]
    }
   ],
   "source": [
    "print(\"suma 5+5=\",5+5)\n",
    "print(\"resta 10-5=\",0-5)\n",
    "print(\"multiplicacion 5*5=\",5*5)\n",
    "print(\"division 10/5=\",10/5)\n",
    "print(\"modulo 11%6=\",11%6)\n",
    "print(\"exponencial 4^2 =\",4**2)\n",
    "print(\"convinacion interes 100*(1.5)**7=\",(100*(1.5)**7))"
   ]
  },
  {
   "cell_type": "markdown",
   "metadata": {},
   "source": [
    "## Exercici 3\n",
    "\n",
    "Prova de crear títols, llistes, canviar l’estil de la lletra o afegir imatges dins del Notebook.\n",
    "\n",
    "Això es un text que forma un paragarf. Donarem enfasis al text amb  **bold** i  __bold__, o marcarem amb *italic* i _italic_ o be taxade ~~Scratch~~. \n",
    "\n",
    "* Aqui es la primera entrada de una lliasta\n",
    "* Aquesta llista es de punts es a dir\n",
    "    * es una llista no ordinal\n",
    "\n",
    "1. tambe podem crear una llisa numeral\n",
    "2. la segona entrada ordenada\n",
    "    1. sub entrada\n",
    "\n",
    "- [x] tarea n1\n",
    "- [] tarea n2\n",
    "\n",
    "``` javascript\n",
    "var s = \"codigo java script\";\n",
    "alert(s);\n",
    "```\n",
    "|cavecera|cavecera|cavecera|\n",
    "|------|------|------|\n",
    "|A     |B     |C     |\n",
    "|X     |Y     |Z     |\n",
    "\n",
    "formula matemtatica \n",
    "$\\sqrt{k}$"
   ]
  },
  {
   "cell_type": "markdown",
   "metadata": {},
   "source": [
    "![Text](python-logo-master-v3-TM.png)\n"
   ]
  },
  {
   "cell_type": "markdown",
   "metadata": {},
   "source": [
    "# Nivell 2\n",
    "## Exercici 1\n",
    "\n",
    "Exporta el Notebook com a pdf i com a html."
   ]
  },
  {
   "cell_type": "markdown",
   "metadata": {},
   "source": [
    "\n",
    "# Nivell 3\n",
    "## Exercici 1\n",
    "\n",
    "Instal·la Nbextensions al Notebook de Jupyter."
   ]
  },
  {
   "cell_type": "code",
   "execution_count": 2,
   "metadata": {},
   "outputs": [
    {
     "name": "stdout",
     "output_type": "stream",
     "text": [
      "Defaulting to user installation because normal site-packages is not writeable\n",
      "Requirement already satisfied: jupyter_contrib_nbextensions in /home/marcr/.local/lib/python3.10/site-packages (0.5.1)\n",
      "Requirement already satisfied: jupyter-contrib-core>=0.3.3 in /home/marcr/.local/lib/python3.10/site-packages (from jupyter_contrib_nbextensions) (0.3.3)\n",
      "Requirement already satisfied: traitlets>=4.1 in /home/marcr/.local/lib/python3.10/site-packages (from jupyter_contrib_nbextensions) (5.1.1)\n",
      "Requirement already satisfied: jupyter-highlight-selected-word>=0.1.1 in /home/marcr/.local/lib/python3.10/site-packages (from jupyter_contrib_nbextensions) (0.2.0)\n",
      "Requirement already satisfied: tornado in /home/marcr/.local/lib/python3.10/site-packages (from jupyter_contrib_nbextensions) (6.1)\n",
      "Requirement already satisfied: jupyter-nbextensions-configurator>=0.4.0 in /home/marcr/.local/lib/python3.10/site-packages (from jupyter_contrib_nbextensions) (0.4.1)\n",
      "Requirement already satisfied: jupyter-core in /home/marcr/.local/lib/python3.10/site-packages (from jupyter_contrib_nbextensions) (4.9.1)\n",
      "Requirement already satisfied: jupyter-latex-envs>=1.3.8 in /home/marcr/.local/lib/python3.10/site-packages (from jupyter_contrib_nbextensions) (1.4.6)\n",
      "Requirement already satisfied: pyyaml in /home/marcr/.local/lib/python3.10/site-packages (from jupyter_contrib_nbextensions) (6.0)\n",
      "Requirement already satisfied: nbconvert>=4.2 in /home/marcr/.local/lib/python3.10/site-packages (from jupyter_contrib_nbextensions) (6.2.0)\n",
      "Requirement already satisfied: notebook>=4.0 in /home/marcr/.local/lib/python3.10/site-packages (from jupyter_contrib_nbextensions) (6.4.5)\n",
      "Requirement already satisfied: ipython-genutils in /home/marcr/.local/lib/python3.10/site-packages (from jupyter_contrib_nbextensions) (0.2.0)\n",
      "Requirement already satisfied: lxml in /usr/lib64/python3.10/site-packages (from jupyter_contrib_nbextensions) (4.6.3)\n",
      "Requirement already satisfied: setuptools in /usr/lib/python3.10/site-packages (from jupyter-contrib-core>=0.3.3->jupyter_contrib_nbextensions) (57.4.0)\n",
      "Requirement already satisfied: ipython in /home/marcr/.local/lib/python3.10/site-packages (from jupyter-latex-envs>=1.3.8->jupyter_contrib_nbextensions) (7.29.0)\n",
      "Requirement already satisfied: nbclient<0.6.0,>=0.5.0 in /home/marcr/.local/lib/python3.10/site-packages (from nbconvert>=4.2->jupyter_contrib_nbextensions) (0.5.4)\n",
      "Requirement already satisfied: pygments>=2.4.1 in /home/marcr/.local/lib/python3.10/site-packages (from nbconvert>=4.2->jupyter_contrib_nbextensions) (2.10.0)\n",
      "Requirement already satisfied: mistune<2,>=0.8.1 in /home/marcr/.local/lib/python3.10/site-packages (from nbconvert>=4.2->jupyter_contrib_nbextensions) (0.8.4)\n",
      "Requirement already satisfied: jupyterlab-pygments in /home/marcr/.local/lib/python3.10/site-packages (from nbconvert>=4.2->jupyter_contrib_nbextensions) (0.1.2)\n",
      "Requirement already satisfied: nbformat>=4.4 in /home/marcr/.local/lib/python3.10/site-packages (from nbconvert>=4.2->jupyter_contrib_nbextensions) (5.1.3)\n",
      "Requirement already satisfied: bleach in /home/marcr/.local/lib/python3.10/site-packages (from nbconvert>=4.2->jupyter_contrib_nbextensions) (4.1.0)\n",
      "Requirement already satisfied: pandocfilters>=1.4.1 in /home/marcr/.local/lib/python3.10/site-packages (from nbconvert>=4.2->jupyter_contrib_nbextensions) (1.5.0)\n",
      "Requirement already satisfied: testpath in /home/marcr/.local/lib/python3.10/site-packages (from nbconvert>=4.2->jupyter_contrib_nbextensions) (0.5.0)\n",
      "Requirement already satisfied: jinja2>=2.4 in /home/marcr/.local/lib/python3.10/site-packages (from nbconvert>=4.2->jupyter_contrib_nbextensions) (3.0.2)\n",
      "Requirement already satisfied: defusedxml in /home/marcr/.local/lib/python3.10/site-packages (from nbconvert>=4.2->jupyter_contrib_nbextensions) (0.7.1)\n",
      "Requirement already satisfied: entrypoints>=0.2.2 in /home/marcr/.local/lib/python3.10/site-packages (from nbconvert>=4.2->jupyter_contrib_nbextensions) (0.3)\n",
      "Requirement already satisfied: MarkupSafe>=2.0 in /usr/lib64/python3.10/site-packages (from jinja2>=2.4->nbconvert>=4.2->jupyter_contrib_nbextensions) (2.0.0)\n",
      "Requirement already satisfied: nest-asyncio in /home/marcr/.local/lib/python3.10/site-packages (from nbclient<0.6.0,>=0.5.0->nbconvert>=4.2->jupyter_contrib_nbextensions) (1.5.1)\n",
      "Requirement already satisfied: jupyter-client>=6.1.5 in /home/marcr/.local/lib/python3.10/site-packages (from nbclient<0.6.0,>=0.5.0->nbconvert>=4.2->jupyter_contrib_nbextensions) (7.0.6)\n",
      "Requirement already satisfied: pyzmq>=13 in /home/marcr/.local/lib/python3.10/site-packages (from jupyter-client>=6.1.5->nbclient<0.6.0,>=0.5.0->nbconvert>=4.2->jupyter_contrib_nbextensions) (22.3.0)\n",
      "Requirement already satisfied: python-dateutil>=2.1 in /usr/lib/python3.10/site-packages (from jupyter-client>=6.1.5->nbclient<0.6.0,>=0.5.0->nbconvert>=4.2->jupyter_contrib_nbextensions) (2.8.1)\n",
      "Requirement already satisfied: jsonschema!=2.5.0,>=2.4 in /home/marcr/.local/lib/python3.10/site-packages (from nbformat>=4.4->nbconvert>=4.2->jupyter_contrib_nbextensions) (4.1.2)\n",
      "Requirement already satisfied: attrs>=17.4.0 in /home/marcr/.local/lib/python3.10/site-packages (from jsonschema!=2.5.0,>=2.4->nbformat>=4.4->nbconvert>=4.2->jupyter_contrib_nbextensions) (21.2.0)\n",
      "Requirement already satisfied: pyrsistent!=0.17.0,!=0.17.1,!=0.17.2,>=0.14.0 in /home/marcr/.local/lib/python3.10/site-packages (from jsonschema!=2.5.0,>=2.4->nbformat>=4.4->nbconvert>=4.2->jupyter_contrib_nbextensions) (0.18.0)\n",
      "Requirement already satisfied: argon2-cffi in /home/marcr/.local/lib/python3.10/site-packages (from notebook>=4.0->jupyter_contrib_nbextensions) (21.1.0)\n",
      "Requirement already satisfied: terminado>=0.8.3 in /home/marcr/.local/lib/python3.10/site-packages (from notebook>=4.0->jupyter_contrib_nbextensions) (0.12.1)\n",
      "Requirement already satisfied: Send2Trash>=1.5.0 in /home/marcr/.local/lib/python3.10/site-packages (from notebook>=4.0->jupyter_contrib_nbextensions) (1.8.0)\n",
      "Requirement already satisfied: ipykernel in /home/marcr/.local/lib/python3.10/site-packages (from notebook>=4.0->jupyter_contrib_nbextensions) (6.5.0)\n",
      "Requirement already satisfied: prometheus-client in /home/marcr/.local/lib/python3.10/site-packages (from notebook>=4.0->jupyter_contrib_nbextensions) (0.12.0)\n",
      "Requirement already satisfied: six>=1.5 in /usr/lib/python3.10/site-packages (from python-dateutil>=2.1->jupyter-client>=6.1.5->nbclient<0.6.0,>=0.5.0->nbconvert>=4.2->jupyter_contrib_nbextensions) (1.16.0)\n",
      "Requirement already satisfied: ptyprocess in /usr/lib/python3.10/site-packages (from terminado>=0.8.3->notebook>=4.0->jupyter_contrib_nbextensions) (0.6.0)\n",
      "Requirement already satisfied: cffi>=1.0.0 in /usr/lib64/python3.10/site-packages (from argon2-cffi->notebook>=4.0->jupyter_contrib_nbextensions) (1.14.6)\n",
      "Requirement already satisfied: pycparser in /usr/lib/python3.10/site-packages (from cffi>=1.0.0->argon2-cffi->notebook>=4.0->jupyter_contrib_nbextensions) (2.20)\n",
      "Requirement already satisfied: webencodings in /home/marcr/.local/lib/python3.10/site-packages (from bleach->nbconvert>=4.2->jupyter_contrib_nbextensions) (0.5.1)\n",
      "Requirement already satisfied: packaging in /usr/lib/python3.10/site-packages (from bleach->nbconvert>=4.2->jupyter_contrib_nbextensions) (21.0)\n",
      "Requirement already satisfied: debugpy<2.0,>=1.0.0 in /home/marcr/.local/lib/python3.10/site-packages (from ipykernel->notebook>=4.0->jupyter_contrib_nbextensions) (1.5.1)\n",
      "Requirement already satisfied: matplotlib-inline<0.2.0,>=0.1.0 in /home/marcr/.local/lib/python3.10/site-packages (from ipykernel->notebook>=4.0->jupyter_contrib_nbextensions) (0.1.3)\n",
      "Requirement already satisfied: decorator in /usr/lib/python3.10/site-packages (from ipython->jupyter-latex-envs>=1.3.8->jupyter_contrib_nbextensions) (5.0.9)\n",
      "Requirement already satisfied: jedi>=0.16 in /home/marcr/.local/lib/python3.10/site-packages (from ipython->jupyter-latex-envs>=1.3.8->jupyter_contrib_nbextensions) (0.18.0)\n",
      "Requirement already satisfied: prompt-toolkit!=3.0.0,!=3.0.1,<3.1.0,>=2.0.0 in /home/marcr/.local/lib/python3.10/site-packages (from ipython->jupyter-latex-envs>=1.3.8->jupyter_contrib_nbextensions) (3.0.21)\n",
      "Requirement already satisfied: pickleshare in /home/marcr/.local/lib/python3.10/site-packages (from ipython->jupyter-latex-envs>=1.3.8->jupyter_contrib_nbextensions) (0.7.5)\n",
      "Requirement already satisfied: backcall in /home/marcr/.local/lib/python3.10/site-packages (from ipython->jupyter-latex-envs>=1.3.8->jupyter_contrib_nbextensions) (0.2.0)\n",
      "Requirement already satisfied: pexpect>4.3 in /usr/lib/python3.10/site-packages (from ipython->jupyter-latex-envs>=1.3.8->jupyter_contrib_nbextensions) (4.8.0)\n",
      "Requirement already satisfied: parso<0.9.0,>=0.8.0 in /home/marcr/.local/lib/python3.10/site-packages (from jedi>=0.16->ipython->jupyter-latex-envs>=1.3.8->jupyter_contrib_nbextensions) (0.8.2)\n",
      "Requirement already satisfied: wcwidth in /home/marcr/.local/lib/python3.10/site-packages (from prompt-toolkit!=3.0.0,!=3.0.1,<3.1.0,>=2.0.0->ipython->jupyter-latex-envs>=1.3.8->jupyter_contrib_nbextensions) (0.2.5)\n",
      "Requirement already satisfied: pyparsing>=2.0.2 in /usr/lib/python3.10/site-packages (from packaging->bleach->nbconvert>=4.2->jupyter_contrib_nbextensions) (2.4.7)\n",
      "Requirement already satisfied: ply==3.11 in /usr/lib/python3.10/site-packages (from pycparser->cffi>=1.0.0->argon2-cffi->notebook>=4.0->jupyter_contrib_nbextensions) (3.11)\n"
     ]
    }
   ],
   "source": [
    "! pip install jupyter_contrib_nbextensions"
   ]
  }
 ],
 "metadata": {
  "interpreter": {
   "hash": "e7370f93d1d0cde622a1f8e1c04877d8463912d04d973331ad4851f04de6915a"
  },
  "kernelspec": {
   "display_name": "Python 3.10.0 64-bit",
   "name": "python3"
  },
  "language_info": {
   "codemirror_mode": {
    "name": "ipython",
    "version": 3
   },
   "file_extension": ".py",
   "mimetype": "text/x-python",
   "name": "python",
   "nbconvert_exporter": "python",
   "pygments_lexer": "ipython3",
   "version": "3.10.0"
  },
  "orig_nbformat": 4
 },
 "nbformat": 4,
 "nbformat_minor": 2
}
